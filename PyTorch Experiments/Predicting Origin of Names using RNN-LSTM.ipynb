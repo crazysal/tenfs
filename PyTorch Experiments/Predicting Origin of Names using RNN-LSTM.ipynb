{
 "cells": [
  {
   "cell_type": "markdown",
   "metadata": {},
   "source": [
    "## Preparing Data \n",
    "\n",
    "#### download frm : [Name Data](https://download.pytorch.org/tutorial/data.zip)\n",
    "\n",
    "###### Included in the data/names directory are 18 text files named as “[Language].txt”. Each file contains a bunch of names, one name per line, mostly romanized (but we still need to convert from Unicode to ASCII).\n",
    "\n",
    "######  We’ll end up with a dictionary of lists of names per language, {language: [names ...]}. The generic variables “category” and “line” (for language and name in our case) are used for later extensibility."
   ]
  },
  {
   "cell_type": "code",
   "execution_count": 5,
   "metadata": {},
   "outputs": [
    {
     "name": "stdout",
     "output_type": "stream",
     "text": [
      "Files \n",
      " ['./data/names/Arabic.txt', './data/names/Chinese.txt', './data/names/Czech.txt', './data/names/Dutch.txt', './data/names/English.txt', './data/names/French.txt', './data/names/German.txt', './data/names/Greek.txt', './data/names/Irish.txt', './data/names/Italian.txt', './data/names/Japanese.txt', './data/names/Korean.txt', './data/names/Polish.txt', './data/names/Portuguese.txt', './data/names/Russian.txt', './data/names/Scottish.txt', './data/names/Spanish.txt', './data/names/Vietnamese.txt'] \n",
      "\n",
      "Slusarski\n"
     ]
    }
   ],
   "source": [
    "from __future__ import unicode_literals, print_function, division\n",
    "from io import open\n",
    "import glob\n",
    "\n",
    "data_dir = \"./data/names/*.txt\"\n",
    "def findFiles(filePath):\n",
    "    return glob.glob(filePath)\n",
    "\n",
    "print(\"Files \\n\", findFiles(data_dir), \"\\n\")\n",
    "\n",
    "import unicodedata, string\n",
    "\n",
    "all_letters = string.ascii_letters+ \" .,;'\"\n",
    "n_letters = len(all_letters)\n",
    "\n",
    "# Unicode to ascii \n",
    "def unicode2ascii(s):\n",
    "    return ''.join(c for c in unicodedata.normalize('NFD', s)\n",
    "                  if unicodedata.category(c) != 'Mn'\n",
    "                  and c in all_letters)\n",
    "\n",
    "print(unicode2ascii('Ślusàrski'))\n",
    "\n",
    "# Build category dict, list of names per language \n",
    "category_lines = {}\n",
    "all_categories = []\n",
    "\n",
    "#Read file and line split \n",
    "def readLine(filename):\n",
    "    lines = open(filename, encoding='utf-8').read().strip().split('\\n')\n",
    "    return [unicode2ascii(line) for line in lines]\n",
    "\n",
    "for fileName in findFiles(data_dir):\n",
    "    category = fileName.split('/')[-1].split('.')[0]\n",
    "    all_categories.append(category)\n",
    "    lines = readLine(fileName)\n",
    "    category_lines[category] = lines\n",
    "\n",
    "n_categories = len(all_categories)"
   ]
  },
  {
   "cell_type": "markdown",
   "metadata": {},
   "source": [
    "## Turning Names Into Tensors \n",
    "#### Letter -> One hot Vector \n",
    "#### Word -> 2d matrix of all One hot Vectors \n",
    "Extra dim in pytorch, coz it assumes everything in minibatch. Thus 1 minibatch here\n",
    "\n"
   ]
  },
  {
   "cell_type": "code",
   "execution_count": 15,
   "metadata": {},
   "outputs": [
    {
     "name": "stdout",
     "output_type": "stream",
     "text": [
      "tensor([[ 0.,  0.,  0.,  0.,  0.,  0.,  0.,  0.,  0.,  0.,  0.,  0.,\n",
      "          0.,  0.,  0.,  0.,  0.,  0.,  0.,  0.,  0.,  0.,  0.,  0.,\n",
      "          0.,  0.,  0.,  0.,  0.,  0.,  0.,  0.,  0.,  0.,  0.,  1.,\n",
      "          0.,  0.,  0.,  0.,  0.,  0.,  0.,  0.,  0.,  0.,  0.,  0.,\n",
      "          0.,  0.,  0.,  0.,  0.,  0.,  0.,  0.,  0.]])\n",
      "torch.Size([5, 1, 57])\n"
     ]
    }
   ],
   "source": [
    "import torch\n",
    "\n",
    "# Find letter Index from all_letters\n",
    "def letter2Index(letter):\n",
    "    return all_letters.find(letter)\n",
    "\n",
    "# Create tensor of letter (1Xn_letters)- just to understand \n",
    "def letter2Tensor(letter):\n",
    "    tensor = torch.zeros(1, n_letters)\n",
    "    tensor[0][letter2Index(letter)] = 1\n",
    "    return tensor\n",
    "\n",
    "# Create tensor of line ( line_length X 1 X n_letters)  - one hot vector stack of line\n",
    "def line2Tensor(line):\n",
    "    tensor = torch.zeros(len(line), 1, n_letters)\n",
    "    for li, letter in enumerate(line):\n",
    "        tensor[li][0][letter2Index(letter)] = 1\n",
    "    return tensor\n",
    "\n",
    "\n",
    "print(letter2Tensor('J'))\n",
    "\n",
    "print(line2Tensor('Jones').size())"
   ]
  },
  {
   "cell_type": "markdown",
   "metadata": {},
   "source": [
    "## Creating the Network \n",
    "##### This RNN module (mostly copied from the PyTorch for Torch users tutorial) is just 2 linear layers which operate on an input and hidden state, with a LogSoftmax layer after the output.\n",
    "\n",
    "\n",
    "![picture alt](https://i.imgur.com/Z2xbySO.png)"
   ]
  },
  {
   "cell_type": "code",
   "execution_count": 20,
   "metadata": {},
   "outputs": [],
   "source": [
    "import torch.nn as nn \n",
    "class RNN(nn.Module):\n",
    "    def __init__(self, input_size, hidden_size, output_size):\n",
    "        super(RNN, self).__init__()\n",
    "               \n",
    "        self.hidden_size = hidden_size\n",
    "        \n",
    "        self.i2h = nn.Linear(input_size + hidden_size, hidden_size)\n",
    "        self.i20 = nn.Linear(input_size + hidden_size, output_size)\n",
    "        self.softmax = nn.LogSoftmax(dim=1)\n",
    "        \n",
    "    def forward(self, input, hidden):\n",
    "        combined = torch.cat((input,hidden), 1)\n",
    "        hidden = self.i2h(combined)\n",
    "        # Output : probability of each language \n",
    "        output = self.softmax(self.i20(combined))\n",
    "        return output, hidden \n",
    "    # Initialise hidden with zeros, as forward step needs input and previous hidden\n",
    "    def initHidden(self):\n",
    "        return torch.zeros(1, self.hidden_size)\n",
    "    \n",
    "n_hidden = 128\n",
    "rnn = RNN(n_letters, n_hidden, n_categories)\n",
    "        "
   ]
  },
  {
   "cell_type": "code",
   "execution_count": 21,
   "metadata": {},
   "outputs": [
    {
     "name": "stdout",
     "output_type": "stream",
     "text": [
      "tensor([[-2.9141, -2.8426, -2.9305, -2.8069, -2.8198, -2.9525, -2.8267,\n",
      "         -2.9131, -2.9244, -3.0088, -2.8475, -2.9576, -2.8590, -2.9241,\n",
      "         -2.8606, -2.9203, -2.7803, -2.9725]])\n",
      "tensor([[-2.9141, -2.8426, -2.9305, -2.8069, -2.8198, -2.9525, -2.8267,\n",
      "         -2.9131, -2.9244, -3.0088, -2.8475, -2.9576, -2.8590, -2.9241,\n",
      "         -2.8606, -2.9203, -2.7803, -2.9725]])\n"
     ]
    }
   ],
   "source": [
    "# Using rnn forward above : \n",
    "ingput  = letter2Tensor('S')\n",
    "hidden = torch.zeros(1, n_hidden)\n",
    "output, next_hidden = rnn(ingput, hidden)\n",
    "\n",
    "print(output)\n",
    "# To optimize we use line tensor, so as not to create a tensor for each letter :\n",
    "# To do : further optimize by batches of tensor \n",
    "\n",
    "ingput = line2Tensor('Saleem')\n",
    "hidden = torch.zeros(1, n_hidden)\n",
    "output, next_hidden = rnn(ingput[0], hidden)\n",
    "\n",
    "# output is 1 X N categories where every value is likelihood of each category\n",
    "print(output)"
   ]
  },
  {
   "cell_type": "code",
   "execution_count": 24,
   "metadata": {},
   "outputs": [
    {
     "data": {
      "text/plain": [
       "(tensor([[-2.7803]]), tensor([[ 16]]))"
      ]
     },
     "execution_count": 24,
     "metadata": {},
     "output_type": "execute_result"
    }
   ],
   "source": []
  },
  {
   "cell_type": "markdown",
   "metadata": {},
   "source": [
    "## Training \n",
    "#### Preparing for Training : "
   ]
  },
  {
   "cell_type": "code",
   "execution_count": 26,
   "metadata": {},
   "outputs": [
    {
     "data": {
      "text/plain": [
       "('Spanish', 16)"
      ]
     },
     "execution_count": 26,
     "metadata": {},
     "output_type": "execute_result"
    }
   ],
   "source": [
    "# use tensor.topk(k) to get highest value, for interpreting the output \n",
    "# return top valu and index\n",
    "def catFromOutput(output):\n",
    "    top_n, top_i  = output.topk(1)\n",
    "    category_i = top_i[0].item()\n",
    "    return all_categories[category_i], category_i\n",
    "\n",
    "catFromOutput(output)"
   ]
  },
  {
   "cell_type": "code",
   "execution_count": null,
   "metadata": {},
   "outputs": [],
   "source": [
    "# Quickly get training sample : Name, language \n",
    "import random \n",
    "def randomChoice(l) :\n",
    "    return l[random.randint(0, len(l)-1)]\n",
    "\n",
    "def randomTraininSample():\n",
    "    \n",
    "    "
   ]
  }
 ],
 "metadata": {
  "kernelspec": {
   "display_name": "Python 3",
   "language": "python",
   "name": "python3"
  },
  "language_info": {
   "codemirror_mode": {
    "name": "ipython",
    "version": 3
   },
   "file_extension": ".py",
   "mimetype": "text/x-python",
   "name": "python",
   "nbconvert_exporter": "python",
   "pygments_lexer": "ipython3",
   "version": "3.6.4"
  }
 },
 "nbformat": 4,
 "nbformat_minor": 2
}
