{
 "cells": [
  {
   "cell_type": "markdown",
   "metadata": {},
   "source": [
    "## Preparing Data \n",
    "\n",
    "#### download frm : [Name Data](https://download.pytorch.org/tutorial/data.zip)\n",
    "\n",
    "###### Included in the data/names directory are 18 text files named as “[Language].txt”. Each file contains a bunch of names, one name per line, mostly romanized (but we still need to convert from Unicode to ASCII).\n",
    "\n",
    "######  We’ll end up with a dictionary of lists of names per language, {language: [names ...]}. The generic variables “category” and “line” (for language and name in our case) are used for later extensibility."
   ]
  },
  {
   "cell_type": "code",
   "execution_count": 5,
   "metadata": {},
   "outputs": [
    {
     "name": "stdout",
     "output_type": "stream",
     "text": [
      "Files \n",
      " ['./data/names/Arabic.txt', './data/names/Chinese.txt', './data/names/Czech.txt', './data/names/Dutch.txt', './data/names/English.txt', './data/names/French.txt', './data/names/German.txt', './data/names/Greek.txt', './data/names/Irish.txt', './data/names/Italian.txt', './data/names/Japanese.txt', './data/names/Korean.txt', './data/names/Polish.txt', './data/names/Portuguese.txt', './data/names/Russian.txt', './data/names/Scottish.txt', './data/names/Spanish.txt', './data/names/Vietnamese.txt'] \n",
      "\n",
      "Slusarski\n"
     ]
    }
   ],
   "source": [
    "from __future__ import unicode_literals, print_function, division\n",
    "from io import open\n",
    "import glob\n",
    "\n",
    "data_dir = \"./data/names/*.txt\"\n",
    "def findFiles(filePath):\n",
    "    return glob.glob(filePath)\n",
    "\n",
    "print(\"Files \\n\", findFiles(data_dir), \"\\n\")\n",
    "\n",
    "import unicodedata, string\n",
    "\n",
    "all_letters = string.ascii_letters+ \" .,;'\"\n",
    "n_letters = len(all_letters)\n",
    "\n",
    "# Unicode to ascii \n",
    "def unicode2ascii(s):\n",
    "    return ''.join(c for c in unicodedata.normalize('NFD', s)\n",
    "                  if unicodedata.category(c) != 'Mn'\n",
    "                  and c in all_letters)\n",
    "\n",
    "print(unicode2ascii('Ślusàrski'))\n",
    "\n",
    "# Build category dict, list of names per language \n",
    "category_lines = {}\n",
    "all_categories = []\n",
    "\n",
    "#Read file and line split \n",
    "def readLine(filename):\n",
    "    lines = open(filename, encoding='utf-8').read().strip().split('\\n')\n",
    "    return [unicode2ascii(line) for line in lines]\n",
    "\n",
    "for fileName in findFiles(data_dir):\n",
    "    category = fileName.split('/')[-1].split('.')[0]\n",
    "    all_categories.append(category)\n",
    "    lines = readLine(fileName)\n",
    "    category_lines[category] = lines\n",
    "\n",
    "n_categories = len(all_categories)"
   ]
  },
  {
   "cell_type": "markdown",
   "metadata": {},
   "source": [
    "## Turning Names Into Tensors \n",
    "#### Letter -> One hot Vector \n",
    "#### Word -> 2d matrix of all One hot Vectors \n",
    "Extra dim in pytorch, coz it assumes everything in minibatch. Thus 1 minibatch here\n",
    "\n"
   ]
  },
  {
   "cell_type": "code",
   "execution_count": null,
   "metadata": {},
   "outputs": [],
   "source": [
    "import tor \n",
    "\n"
   ]
  }
 ],
 "metadata": {
  "kernelspec": {
   "display_name": "Python 3",
   "language": "python",
   "name": "python3"
  },
  "language_info": {
   "codemirror_mode": {
    "name": "ipython",
    "version": 3
   },
   "file_extension": ".py",
   "mimetype": "text/x-python",
   "name": "python",
   "nbconvert_exporter": "python",
   "pygments_lexer": "ipython3",
   "version": "3.6.4"
  }
 },
 "nbformat": 4,
 "nbformat_minor": 2
}
