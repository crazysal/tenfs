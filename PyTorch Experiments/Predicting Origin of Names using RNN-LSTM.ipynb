{
 "cells": [
  {
   "cell_type": "markdown",
   "metadata": {},
   "source": [
    "## Preparing Data \n",
    "\n",
    "#### download frm : [Name Data](https://download.pytorch.org/tutorial/data.zip)\n",
    "\n",
    "###### Included in the data/names directory are 18 text files named as “[Language].txt”. Each file contains a bunch of names, one name per line, mostly romanized (but we still need to convert from Unicode to ASCII).\n",
    "\n",
    "######  We’ll end up with a dictionary of lists of names per language, {language: [names ...]}. The generic variables “category” and “line” (for language and name in our case) are used for later extensibility."
   ]
  },
  {
   "cell_type": "code",
   "execution_count": 2,
   "metadata": {},
   "outputs": [
    {
     "name": "stdout",
     "output_type": "stream",
     "text": [
      "Files \n",
      " ['./data/names/Arabic.txt', './data/names/Chinese.txt', './data/names/Czech.txt', './data/names/Dutch.txt', './data/names/English.txt', './data/names/French.txt', './data/names/German.txt', './data/names/Greek.txt', './data/names/Irish.txt', './data/names/Italian.txt', './data/names/Japanese.txt', './data/names/Korean.txt', './data/names/Polish.txt', './data/names/Portuguese.txt', './data/names/Russian.txt', './data/names/Scottish.txt', './data/names/Spanish.txt', './data/names/Vietnamese.txt'] \n",
      "\n",
      "Slusarski\n"
     ]
    }
   ],
   "source": [
    "from __future__ import unicode_literals, print_function, division\n",
    "from io import open\n",
    "import glob\n",
    "\n",
    "data_dir = \"./data/names/*.txt\"\n",
    "def findFiles(filePath):\n",
    "    return glob.glob(filePath)\n",
    "\n",
    "print(\"Files \\n\", findFiles(data_dir), \"\\n\")\n",
    "\n",
    "import unicodedata, string\n",
    "\n",
    "all_letters = string.ascii_letters+ \" .,;'\"\n",
    "n_letters = len(all_letters)\n",
    "\n",
    "# Unicode to ascii \n",
    "def unicode2ascii(s):\n",
    "    return ''.join(c for c in unicodedata.normalize('NFD', s)\n",
    "                  if unicodedata.category(c) != 'Mn'\n",
    "                  and c in all_letters)\n",
    "\n",
    "print(unicode2ascii('Ślusàrski'))\n",
    "\n",
    "# Build category dict, list of names per language \n",
    "category_lines = {}\n",
    "all_categories = []\n",
    "\n",
    "#Read file and line split \n",
    "def readLine(filename):\n",
    "    lines = open(filename, encoding='utf-8').read().strip().split('\\n')\n",
    "    return [unicode2ascii(line) for line in lines]\n",
    "\n",
    "for fileName in findFiles(data_dir):\n",
    "    category = fileName.split('/')[-1].split('.')[0]\n",
    "    all_categories.append(category)\n",
    "    lines = readLine(fileName)\n",
    "    category_lines[category] = lines\n",
    "\n",
    "n_categories = len(all_categories)"
   ]
  },
  {
   "cell_type": "markdown",
   "metadata": {},
   "source": [
    "## Turning Names Into Tensors \n",
    "#### Letter -> One hot Vector \n",
    "#### Word -> 2d matrix of all One hot Vectors \n",
    "Extra dim in pytorch, coz it assumes everything in minibatch. Thus 1 minibatch here\n",
    "\n"
   ]
  },
  {
   "cell_type": "code",
   "execution_count": 3,
   "metadata": {},
   "outputs": [
    {
     "name": "stdout",
     "output_type": "stream",
     "text": [
      "tensor([[ 0.,  0.,  0.,  0.,  0.,  0.,  0.,  0.,  0.,  0.,  0.,  0.,\n",
      "          0.,  0.,  0.,  0.,  0.,  0.,  0.,  0.,  0.,  0.,  0.,  0.,\n",
      "          0.,  0.,  0.,  0.,  0.,  0.,  0.,  0.,  0.,  0.,  0.,  1.,\n",
      "          0.,  0.,  0.,  0.,  0.,  0.,  0.,  0.,  0.,  0.,  0.,  0.,\n",
      "          0.,  0.,  0.,  0.,  0.,  0.,  0.,  0.,  0.]])\n",
      "torch.Size([5, 1, 57])\n"
     ]
    }
   ],
   "source": [
    "import torch\n",
    "\n",
    "# Find letter Index from all_letters\n",
    "def letter2Index(letter):\n",
    "    return all_letters.find(letter)\n",
    "\n",
    "# Create tensor of letter (1Xn_letters)- just to understand \n",
    "def letter2Tensor(letter):\n",
    "    tensor = torch.zeros(1, n_letters)\n",
    "    tensor[0][letter2Index(letter)] = 1\n",
    "    return tensor\n",
    "\n",
    "# Create tensor of line ( line_length X 1 X n_letters)  - one hot vector stack of line\n",
    "def line2Tensor(line):\n",
    "    tensor = torch.zeros(len(line), 1, n_letters)\n",
    "    for li, letter in enumerate(line):\n",
    "        tensor[li][0][letter2Index(letter)] = 1\n",
    "    return tensor\n",
    "\n",
    "\n",
    "print(letter2Tensor('J'))\n",
    "\n",
    "print(line2Tensor('Jones').size())"
   ]
  },
  {
   "cell_type": "markdown",
   "metadata": {},
   "source": [
    "## Creating the Network \n",
    "##### This RNN module (mostly copied from the PyTorch for Torch users tutorial) is just 2 linear layers which operate on an input and hidden state, with a LogSoftmax layer after the output.\n",
    "\n",
    "\n",
    "![picture alt](https://i.imgur.com/Z2xbySO.png)"
   ]
  },
  {
   "cell_type": "code",
   "execution_count": 4,
   "metadata": {},
   "outputs": [],
   "source": [
    "import torch.nn as nn \n",
    "class RNN(nn.Module):\n",
    "    def __init__(self, input_size, hidden_size, output_size):\n",
    "        super(RNN, self).__init__()\n",
    "               \n",
    "        self.hidden_size = hidden_size\n",
    "        \n",
    "        self.i2h = nn.Linear(input_size + hidden_size, hidden_size)\n",
    "        self.i20 = nn.Linear(input_size + hidden_size, output_size)\n",
    "        self.softmax = nn.LogSoftmax(dim=1)\n",
    "        \n",
    "    def forward(self, input, hidden):\n",
    "        combined = torch.cat((input,hidden), 1)\n",
    "        hidden = self.i2h(combined)\n",
    "        # Output : probability of each language \n",
    "        output = self.softmax(self.i20(combined))\n",
    "        return output, hidden \n",
    "    # Initialise hidden with zeros, as forward step needs input and previous hidden\n",
    "    def initHidden(self):\n",
    "        return torch.zeros(1, self.hidden_size)\n",
    "    \n",
    "n_hidden = 128\n",
    "rnn = RNN(n_letters, n_hidden, n_categories)\n",
    "        "
   ]
  },
  {
   "cell_type": "code",
   "execution_count": 5,
   "metadata": {},
   "outputs": [
    {
     "name": "stdout",
     "output_type": "stream",
     "text": [
      "tensor([[-2.9927, -2.8078, -2.9915, -2.8750, -2.8890, -2.8665, -2.8726,\n",
      "         -2.9267, -2.8263, -2.8824, -2.8876, -2.8107, -2.9356, -2.8999,\n",
      "         -2.9129, -2.9169, -2.9084, -2.8473]])\n",
      "tensor([[-2.9927, -2.8078, -2.9915, -2.8750, -2.8890, -2.8665, -2.8726,\n",
      "         -2.9267, -2.8263, -2.8824, -2.8876, -2.8107, -2.9356, -2.8999,\n",
      "         -2.9129, -2.9169, -2.9084, -2.8473]])\n"
     ]
    }
   ],
   "source": [
    "# Using rnn forward above : \n",
    "ingput  = letter2Tensor('S')\n",
    "hidden = torch.zeros(1, n_hidden)\n",
    "output, next_hidden = rnn(ingput, hidden)\n",
    "\n",
    "print(output)\n",
    "# To optimize we use line tensor, so as not to create a tensor for each letter :\n",
    "# To do : further optimize by batches of tensor \n",
    "\n",
    "ingput = line2Tensor('Saleem')\n",
    "hidden = torch.zeros(1, n_hidden)\n",
    "output, next_hidden = rnn(ingput[0], hidden)\n",
    "\n",
    "# output is 1 X N categories where every value is likelihood of each category\n",
    "print(output)"
   ]
  },
  {
   "cell_type": "markdown",
   "metadata": {},
   "source": [
    "## Training \n",
    "#### Preparing for Training : "
   ]
  },
  {
   "cell_type": "code",
   "execution_count": 6,
   "metadata": {},
   "outputs": [
    {
     "data": {
      "text/plain": [
       "('Chinese', 1)"
      ]
     },
     "execution_count": 6,
     "metadata": {},
     "output_type": "execute_result"
    }
   ],
   "source": [
    "# use tensor.topk(k) to get highest value, for interpreting the output \n",
    "# return top valu and index\n",
    "def catFromOutput(output):\n",
    "    top_n, top_i  = output.topk(1)\n",
    "    category_i = top_i[0].item()\n",
    "    return all_categories[category_i], category_i\n",
    "\n",
    "catFromOutput(output)"
   ]
  },
  {
   "cell_type": "code",
   "execution_count": 7,
   "metadata": {},
   "outputs": [
    {
     "name": "stdout",
     "output_type": "stream",
     "text": [
      "category = French / line = Salvage\n",
      "category = Russian / line = Baer\n",
      "category = Vietnamese / line = An\n",
      "category = Vietnamese / line = Lam\n",
      "category = Vietnamese / line = Chung\n",
      "category = Polish / line = Pasternak\n",
      "category = Korean / line = Choi\n",
      "category = Irish / line = Donoghue\n",
      "category = Czech / line = Ocaskova\n",
      "category = Italian / line = Stablum\n"
     ]
    }
   ],
   "source": [
    "# Quickly get training sample : Name, language \n",
    "import random \n",
    "def randomChoice(l) :\n",
    "    return l[random.randint(0, len(l)-1)]\n",
    "\n",
    "def randomTraininSample():\n",
    "    category = randomChoice(all_categories)\n",
    "    line = randomChoice(category_lines[category])\n",
    "    category_tensor = torch.tensor([all_categories.index(category)], dtype=torch.long)\n",
    "    line_tensor = line2Tensor(line)\n",
    "    return category, line, category_tensor, line_tensor\n",
    "\n",
    "for i in range(10):\n",
    "    category, line, category_tensor, line_tensor = randomTraininSample()\n",
    "    print('category =', category, '/ line =', line)\n",
    "    \n",
    "    "
   ]
  },
  {
   "cell_type": "code",
   "execution_count": 8,
   "metadata": {},
   "outputs": [
    {
     "name": "stdout",
     "output_type": "stream",
     "text": [
      "Scottish\n",
      "15\n",
      "Watson\n"
     ]
    }
   ],
   "source": [
    "category = randomChoice(all_categories)\n",
    "print(category)\n",
    "print(all_categories.index(category))\n",
    "line = randomChoice(category_lines[category])\n",
    "print(line)"
   ]
  },
  {
   "cell_type": "markdown",
   "metadata": {},
   "source": [
    "#### Actually Training The Network\n",
    "##### define loss function - using negative log likelihood loss \n",
    "\n",
    "> Each loop of training will:\n",
    "\n",
    "> * Create input and target tensors\n",
    "> * Create a zeroed initial hidden state\n",
    "> * Read each letter in and\n",
    "> * Keep hidden state for next letter\n",
    "> * Compare final output to target\n",
    "> * Back-propagate\n",
    "> * Return the output and loss"
   ]
  },
  {
   "cell_type": "code",
   "execution_count": 9,
   "metadata": {},
   "outputs": [
    {
     "ename": "NameError",
     "evalue": "name 'loss' is not defined",
     "output_type": "error",
     "traceback": [
      "\u001b[0;31m---------------------------------------------------------------------------\u001b[0m",
      "\u001b[0;31mNameError\u001b[0m                                 Traceback (most recent call last)",
      "\u001b[0;32m<ipython-input-9-84f30a647e63>\u001b[0m in \u001b[0;36m<module>\u001b[0;34m()\u001b[0m\n\u001b[1;32m      1\u001b[0m \u001b[0mrnn\u001b[0m\u001b[0;34m.\u001b[0m\u001b[0mzero_grad\u001b[0m\u001b[0;34m(\u001b[0m\u001b[0;34m)\u001b[0m\u001b[0;34m\u001b[0m\u001b[0m\n\u001b[0;32m----> 2\u001b[0;31m \u001b[0mprint\u001b[0m\u001b[0;34m(\u001b[0m\u001b[0mloss\u001b[0m\u001b[0;34m)\u001b[0m\u001b[0;34m\u001b[0m\u001b[0m\n\u001b[0m",
      "\u001b[0;31mNameError\u001b[0m: name 'loss' is not defined"
     ]
    }
   ],
   "source": [
    "rnn.zero_grad()\n",
    "print(loss)"
   ]
  },
  {
   "cell_type": "code",
   "execution_count": 16,
   "metadata": {},
   "outputs": [],
   "source": [
    "criterion = nn.NLLLoss()\n",
    "\n",
    "lr = 0.001\n",
    "def train(cat_tensor, line_tensor):\n",
    "    # print(\"catt\",cat_tensor,\"lint\", line_tensor)\n",
    "    hidden = rnn.initHidden()\n",
    "    rnn.zero_grad()\n",
    "    for i in range(line_tensor.size()[0]):\n",
    "        output, hidden = rnn(line_tensor[i], hidden)\n",
    "    #print('....................', output.size(), cat_tensor.size())\n",
    "    loss = criterion(output, cat_tensor)\n",
    "    loss.backward()\n",
    "#     print(\"loss\", loss.item())\n",
    "    \n",
    "    # Add parameter gradient *lr to update weight \n",
    "    torch.nn.utils.clip_grad_norm_(rnn.parameters(), 0.025)\n",
    "    for p in rnn.parameters():\n",
    "        p.data.add_(-lr, p.grad.data)\n",
    "    \n",
    "    return output, loss.item()"
   ]
  },
  {
   "cell_type": "code",
   "execution_count": 11,
   "metadata": {},
   "outputs": [
    {
     "name": "stderr",
     "output_type": "stream",
     "text": [
      "/home/sal/anaconda3/lib/python3.6/site-packages/ipykernel_launcher.py:16: UserWarning: torch.nn.utils.clip_grad_norm is now deprecated in favor of torch.nn.utils.clip_grad_norm_.\n",
      "  app.launch_new_instance()\n"
     ]
    },
    {
     "name": "stdout",
     "output_type": "stream",
     "text": [
      "5000 5% (0m 5s) 2.8512 Hamchiev / Chinese ✗ (Russian)\n",
      "10000 10% (0m 11s) 2.8482 Zha / Spanish ✗ (Chinese)\n",
      "15000 15% (0m 17s) 2.8684 Zambrano / Portuguese ✗ (Spanish)\n",
      "20000 20% (0m 24s) 2.7660 Liu / Russian ✗ (Chinese)\n",
      "25000 25% (0m 30s) 2.8663 Vinh / German ✗ (Vietnamese)\n",
      "30000 30% (0m 38s) 2.7612 Hausler / German ✓\n",
      "35000 35% (0m 43s) 2.9678 Doan / English ✗ (Vietnamese)\n",
      "40000 40% (0m 50s) 2.8056 Ceallach / Irish ✓\n",
      "45000 45% (0m 56s) 2.8526 Chemlik / Greek ✗ (Czech)\n",
      "50000 50% (1m 1s) 2.7947 Eoin / Scottish ✗ (Irish)\n",
      "55000 55% (1m 8s) 2.6766 Auer / German ✓\n",
      "60000 60% (1m 15s) 2.9046 Soho / Portuguese ✗ (Japanese)\n",
      "65000 65% (1m 22s) 2.7169 Chang / Chinese ✓\n",
      "70000 70% (1m 31s) 2.8354 Snider / German ✗ (Dutch)\n",
      "75000 75% (1m 37s) 2.8782 Baz / Irish ✗ (Arabic)\n",
      "80000 80% (1m 43s) 2.6640 Cathan / Irish ✓\n",
      "85000 85% (1m 49s) 2.6294 Ping / Chinese ✓\n",
      "90000 90% (1m 55s) 2.9227 Koury / Russian ✗ (Arabic)\n",
      "95000 95% (2m 1s) 2.8835 Tuma / Japanese ✗ (Arabic)\n",
      "100000 100% (2m 7s) 2.7823 Moon / Scottish ✗ (Korean)\n"
     ]
    }
   ],
   "source": [
    "# Run train with train data and print output also average loss \n",
    "import time \n",
    "import math \n",
    "\n",
    "n_iters = 100000\n",
    "print_every =  5000\n",
    "plot_every = 1000 \n",
    "\n",
    "# Keep Track of losses for plotting \n",
    "\n",
    "current_loss = 0 ; \n",
    "all_losses = [];\n",
    "\n",
    "def timeSince(since):\n",
    "    now = time.time()\n",
    "    s = now - since\n",
    "    m = math.floor(s / 60)\n",
    "    s -= m * 60\n",
    "    return '%dm %ds' % (m, s)\n",
    "\n",
    "start = time.time()\n",
    "\n",
    "for iter in range(1, n_iters +1) :\n",
    "    category, line, category_tensor, line_tensor = randomTraininSample()    \n",
    "    output, loss = train(category_tensor, line_tensor)\n",
    "    current_loss += loss \n",
    "    \n",
    "    #Print iter, name, loss and guess \n",
    "    if iter % print_every == 0:\n",
    "        guess, guess_i = catFromOutput(output)\n",
    "        correct = '✓' if guess == category else '✗ (%s)' % category\n",
    "        print('%d %d%% (%s) %.4f %s / %s %s' % (iter, iter / n_iters * 100, timeSince(start), loss, line, guess, correct))\n",
    "        \n",
    "    # Add current loss avg to list of losses\n",
    "    if iter % plot_every == 0:\n",
    "        all_losses.append(current_loss / plot_every)\n",
    "        current_loss = 0\n",
    "\n",
    "\n"
   ]
  },
  {
   "cell_type": "markdown",
   "metadata": {},
   "source": [
    "## Plotting Results \n"
   ]
  },
  {
   "cell_type": "code",
   "execution_count": 14,
   "metadata": {},
   "outputs": [
    {
     "data": {
      "image/png": "[encoded data removed]",
      "text/plain": [
       "<Figure size 432x288 with 1 Axes>"
      ]
     },
     "metadata": {},
     "output_type": "display_data"
    }
   ],
   "source": [
    "import matplotlib.pyplot as plt\n",
    "import matplotlib.ticker as ticker\n",
    "\n",
    "plt.figure()\n",
    "plt.plot(all_losses)\n",
    "plt.show()"
   ]
  },
  {
   "cell_type": "markdown",
   "metadata": {},
   "source": [
    "## Evaluating the Result \n",
    "#### Creating the confusion matrix"
   ]
  },
  {
   "cell_type": "code",
   "execution_count": 15,
   "metadata": {},
   "outputs": [
    {
     "data": {
      "image/png": "[encoded data removed]",
      "text/plain": [
       "<Figure size 432x288 with 2 Axes>"
      ]
     },
     "metadata": {},
     "output_type": "display_data"
    }
   ],
   "source": [
    "confusion = torch.zeros(n_categories, n_categories)\n",
    "n_confusion = n_iters\n",
    "def evaluate(line_tensor): \n",
    "    hidden = rnn.initHidden()\n",
    "    for i in range(line_tensor.size()[0]):\n",
    "        output, loss = rnn(line_tensor[i], hidden)\n",
    "    return output\n",
    "\n",
    "# Go thoriugh training data for creating the confusion matrix \n",
    "for i in range(n_confusion):\n",
    "    category, line, category_tensor, line_tensor = randomTraininSample()\n",
    "    output =  evaluate(line_tensor)\n",
    "    guess, guess_i = catFromOutput(output)\n",
    "    category_i = all_categories.index(category)\n",
    "    confusion[category_i][guess_i] += 1\n",
    "\n",
    "# Normalize by dividing every row by its sum\n",
    "for i in range(n_categories):\n",
    "    confusion[i] = confusion[i] / confusion[i].sum()\n",
    "\n",
    "# Set up plot\n",
    "fig = plt.figure()\n",
    "ax = fig.add_subplot(111)\n",
    "cax = ax.matshow(confusion.numpy())\n",
    "fig.colorbar(cax)\n",
    "\n",
    "# Set up axes\n",
    "ax.set_xticklabels([''] + all_categories, rotation=90)\n",
    "ax.set_yticklabels([''] + all_categories)\n",
    "\n",
    "# Force label at every tick\n",
    "ax.xaxis.set_major_locator(ticker.MultipleLocator(1))\n",
    "ax.yaxis.set_major_locator(ticker.MultipleLocator(1))\n",
    "\n",
    "# sphinx_gallery_thumbnail_number = 2\n",
    "plt.show()\n",
    "    "
   ]
  },
  {
   "cell_type": "markdown",
   "metadata": {},
   "source": [
    "You can pick out bright spots off the main axis that show which languages it guesses incorrectly, e.g. Chinese for Korean, and Spanish for Italian. It seems to do very well with Greek, and very poorly with English (perhaps because of overlap with other languages).\n",
    "\n",
    "## Running on User Input"
   ]
  },
  {
   "cell_type": "code",
   "execution_count": 17,
   "metadata": {},
   "outputs": [
    {
     "name": "stdout",
     "output_type": "stream",
     "text": [
      "\n",
      ">Dovesky\n",
      "(-2.78) Scottish\n",
      "(-2.81) Russian\n",
      "(-2.83) Chinese\n",
      "\n",
      ">Jackson\n",
      "(-2.70) Irish\n",
      "(-2.72) Scottish\n",
      "(-2.73) Chinese\n",
      "\n",
      ">Satoshi\n",
      "(-2.63) Italian\n",
      "(-2.79) Polish\n",
      "(-2.80) Japanese\n"
     ]
    }
   ],
   "source": [
    "def predict (input_line, n_pred =3):\n",
    "    print('\\n>%s'%input_line )\n",
    "    with torch.no_grad():\n",
    "        output = evaluate(line2Tensor(input_line))\n",
    "           # Get top N categories\n",
    "        topv, topi = output.topk(n_pred, 1, True)\n",
    "        predictions = []\n",
    "\n",
    "        for i in range(n_pred):\n",
    "            value = topv[0][i].item()\n",
    "            category_index = topi[0][i].item()\n",
    "            print('(%.2f) %s' % (value, all_categories[category_index]))\n",
    "            predictions.append([value, all_categories[category_index]])\n",
    "\n",
    "predict('Dovesky')\n",
    "predict('Jackson')\n",
    "predict('Satoshi')   \n",
    "            \n",
    "            "
   ]
  },
  {
   "cell_type": "code",
   "execution_count": 18,
   "metadata": {},
   "outputs": [
    {
     "name": "stdout",
     "output_type": "stream",
     "text": [
      "\n",
      ">Aayesha\n",
      "(-2.69) Japanese\n",
      "(-2.70) Spanish\n",
      "(-2.81) Czech\n"
     ]
    }
   ],
   "source": [
    "predict('Aayesha')   "
   ]
  },
  {
   "cell_type": "code",
   "execution_count": null,
   "metadata": {},
   "outputs": [],
   "source": []
  }
 ],
 "metadata": {
  "kernelspec": {
   "display_name": "Python 3",
   "language": "python",
   "name": "python3"
  },
  "language_info": {
   "codemirror_mode": {
    "name": "ipython",
    "version": 3
   },
   "file_extension": ".py",
   "mimetype": "text/x-python",
   "name": "python",
   "nbconvert_exporter": "python",
   "pygments_lexer": "ipython3",
   "version": "3.6.4"
  }
 },
 "nbformat": 4,
 "nbformat_minor": 2
}
