{
 "cells": [
  {
   "cell_type": "markdown",
   "metadata": {},
   "source": [
    "## Preparing Data \n",
    "\n",
    "#### download frm : [Name Data](https://download.pytorch.org/tutorial/data.zip)\n",
    "\n",
    "###### Included in the data/names directory are 18 text files named as “[Language].txt”. Each file contains a bunch of names, one name per line, mostly romanized (but we still need to convert from Unicode to ASCII).\n",
    "\n",
    "######  We’ll end up with a dictionary of lists of names per language, {language: [names ...]}. The generic variables “category” and “line” (for language and name in our case) are used for later extensibility."
   ]
  },
  {
   "cell_type": "code",
   "execution_count": 5,
   "metadata": {},
   "outputs": [
    {
     "name": "stdout",
     "output_type": "stream",
     "text": [
      "Files \n",
      " ['./data/names/Arabic.txt', './data/names/Chinese.txt', './data/names/Czech.txt', './data/names/Dutch.txt', './data/names/English.txt', './data/names/French.txt', './data/names/German.txt', './data/names/Greek.txt', './data/names/Irish.txt', './data/names/Italian.txt', './data/names/Japanese.txt', './data/names/Korean.txt', './data/names/Polish.txt', './data/names/Portuguese.txt', './data/names/Russian.txt', './data/names/Scottish.txt', './data/names/Spanish.txt', './data/names/Vietnamese.txt'] \n",
      "\n",
      "Slusarski\n"
     ]
    }
   ],
   "source": [
    "from __future__ import unicode_literals, print_function, division\n",
    "from io import open\n",
    "import glob\n",
    "\n",
    "data_dir = \"./data/names/*.txt\"\n",
    "def findFiles(filePath):\n",
    "    return glob.glob(filePath)\n",
    "\n",
    "print(\"Files \\n\", findFiles(data_dir), \"\\n\")\n",
    "\n",
    "import unicodedata, string\n",
    "\n",
    "all_letters = string.ascii_letters+ \" .,;'\"\n",
    "n_letters = len(all_letters)\n",
    "\n",
    "# Unicode to ascii \n",
    "def unicode2ascii(s):\n",
    "    return ''.join(c for c in unicodedata.normalize('NFD', s)\n",
    "                  if unicodedata.category(c) != 'Mn'\n",
    "                  and c in all_letters)\n",
    "\n",
    "print(unicode2ascii('Ślusàrski'))\n",
    "\n",
    "# Build category dict, list of names per language \n",
    "category_lines = {}\n",
    "all_categories = []\n",
    "\n",
    "#Read file and line split \n",
    "def readLine(filename):\n",
    "    lines = open(filename, encoding='utf-8').read().strip().split('\\n')\n",
    "    return [unicode2ascii(line) for line in lines]\n",
    "\n",
    "for fileName in findFiles(data_dir):\n",
    "    category = fileName.split('/')[-1].split('.')[0]\n",
    "    all_categories.append(category)\n",
    "    lines = readLine(fileName)\n",
    "    category_lines[category] = lines\n",
    "\n",
    "n_categories = len(all_categories)"
   ]
  },
  {
   "cell_type": "markdown",
   "metadata": {},
   "source": [
    "## Turning Names Into Tensors \n",
    "#### Letter -> One hot Vector \n",
    "#### Word -> 2d matrix of all One hot Vectors \n",
    "Extra dim in pytorch, coz it assumes everything in minibatch. Thus 1 minibatch here\n",
    "\n"
   ]
  },
  {
   "cell_type": "code",
   "execution_count": 6,
   "metadata": {},
   "outputs": [
    {
     "name": "stdout",
     "output_type": "stream",
     "text": [
      "tensor([[ 0.,  0.,  0.,  0.,  0.,  0.,  0.,  0.,  0.,  0.,  0.,  0.,\n",
      "          0.,  0.,  0.,  0.,  0.,  0.,  0.,  0.,  0.,  0.,  0.,  0.,\n",
      "          0.,  0.,  0.,  0.,  0.,  0.,  0.,  0.,  0.,  0.,  0.,  1.,\n",
      "          0.,  0.,  0.,  0.,  0.,  0.,  0.,  0.,  0.,  0.,  0.,  0.,\n",
      "          0.,  0.,  0.,  0.,  0.,  0.,  0.,  0.,  0.]])\n",
      "torch.Size([5, 1, 57])\n"
     ]
    }
   ],
   "source": [
    "import torch\n",
    "\n",
    "# Find letter Index from all_letters\n",
    "def letter2Index(letter):\n",
    "    return all_letters.find(letter)\n",
    "\n",
    "# Create tensor of letter (1Xn_letters)- just to understand \n",
    "def letter2Tensor(letter):\n",
    "    tensor = torch.zeros(1, n_letters)\n",
    "    tensor[0][letter2Index(letter)] = 1\n",
    "    return tensor\n",
    "\n",
    "# Create tensor of line ( line_length X 1 X n_letters)  - one hot vector stack of line\n",
    "def line2Tensor(line):\n",
    "    tensor = torch.zeros(len(line), 1, n_letters)\n",
    "    for li, letter in enumerate(line):\n",
    "        tensor[li][0][letter2Index(letter)] = 1\n",
    "    return tensor\n",
    "\n",
    "\n",
    "print(letter2Tensor('J'))\n",
    "\n",
    "print(line2Tensor('Jones').size())"
   ]
  },
  {
   "cell_type": "markdown",
   "metadata": {},
   "source": [
    "## Creating the Network \n",
    "##### This RNN module (mostly copied from the PyTorch for Torch users tutorial) is just 2 linear layers which operate on an input and hidden state, with a LogSoftmax layer after the output.\n",
    "\n",
    "\n",
    "![picture alt](https://i.imgur.com/Z2xbySO.png)"
   ]
  },
  {
   "cell_type": "code",
   "execution_count": 7,
   "metadata": {},
   "outputs": [],
   "source": [
    "import torch.nn as nn \n",
    "class RNN(nn.Module):\n",
    "    def __init__(self, input_size, hidden_size, output_size):\n",
    "        super(RNN, self).__init__()\n",
    "               \n",
    "        self.hidden_size = hidden_size\n",
    "        \n",
    "        self.i2h = nn.Linear(input_size + hidden_size, hidden_size)\n",
    "        self.i20 = nn.Linear(input_size + hidden_size, output_size)\n",
    "        self.softmax = nn.LogSoftmax(dim=1)\n",
    "        \n",
    "    def forward(self, input, hidden):\n",
    "        combined = torch.cat((input,hidden), 1)\n",
    "        hidden = self.i2h(combined)\n",
    "        # Output : probability of each language \n",
    "        output = self.softmax(self.i20(combined))\n",
    "        return output, hidden \n",
    "    # Initialise hidden with zeros, as forward step needs input and previous hidden\n",
    "    def initHidden(self):\n",
    "        return torch.zeros(1, self.hidden_size)\n",
    "    \n",
    "n_hidden = 128\n",
    "rnn = RNN(n_letters, n_hidden, n_categories)\n",
    "        "
   ]
  },
  {
   "cell_type": "code",
   "execution_count": 8,
   "metadata": {},
   "outputs": [
    {
     "name": "stdout",
     "output_type": "stream",
     "text": [
      "tensor([[-2.8189, -2.8717, -2.9692, -2.8589, -2.8040, -2.8414, -2.8689,\n",
      "         -2.9240, -2.8996, -2.8789, -2.9109, -2.9289, -2.9844, -2.8254,\n",
      "         -2.9290, -2.8402, -2.9973, -2.9024]])\n",
      "tensor([[-2.8189, -2.8717, -2.9692, -2.8589, -2.8040, -2.8414, -2.8689,\n",
      "         -2.9240, -2.8996, -2.8789, -2.9109, -2.9289, -2.9844, -2.8254,\n",
      "         -2.9290, -2.8402, -2.9973, -2.9024]])\n"
     ]
    }
   ],
   "source": [
    "# Using rnn forward above : \n",
    "ingput  = letter2Tensor('S')\n",
    "hidden = torch.zeros(1, n_hidden)\n",
    "output, next_hidden = rnn(ingput, hidden)\n",
    "\n",
    "print(output)\n",
    "# To optimize we use line tensor, so as not to create a tensor for each letter :\n",
    "# To do : further optimize by batches of tensor \n",
    "\n",
    "ingput = line2Tensor('Saleem')\n",
    "hidden = torch.zeros(1, n_hidden)\n",
    "output, next_hidden = rnn(ingput[0], hidden)\n",
    "\n",
    "# output is 1 X N categories where every value is likelihood of each category\n",
    "print(output)"
   ]
  },
  {
   "cell_type": "code",
   "execution_count": 24,
   "metadata": {},
   "outputs": [
    {
     "data": {
      "text/plain": [
       "(tensor([[-2.7803]]), tensor([[ 16]]))"
      ]
     },
     "execution_count": 24,
     "metadata": {},
     "output_type": "execute_result"
    }
   ],
   "source": []
  },
  {
   "cell_type": "markdown",
   "metadata": {},
   "source": [
    "## Training \n",
    "#### Preparing for Training : "
   ]
  },
  {
   "cell_type": "code",
   "execution_count": 9,
   "metadata": {},
   "outputs": [
    {
     "data": {
      "text/plain": [
       "('English', 4)"
      ]
     },
     "execution_count": 9,
     "metadata": {},
     "output_type": "execute_result"
    }
   ],
   "source": [
    "# use tensor.topk(k) to get highest value, for interpreting the output \n",
    "# return top valu and index\n",
    "def catFromOutput(output):\n",
    "    top_n, top_i  = output.topk(1)\n",
    "    category_i = top_i[0].item()\n",
    "    return all_categories[category_i], category_i\n",
    "\n",
    "catFromOutput(output)"
   ]
  },
  {
   "cell_type": "code",
   "execution_count": 11,
   "metadata": {},
   "outputs": [
    {
     "name": "stdout",
     "output_type": "stream",
     "text": [
      "category = Spanish / line = Mingo\n",
      "category = Italian / line = Fattore\n",
      "category = Vietnamese / line = Trang\n",
      "category = Scottish / line = Martin\n",
      "category = German / line = Leitner\n",
      "category = Czech / line = Sponer\n",
      "category = Czech / line = Widerlechner\n",
      "category = Korean / line = Youj\n",
      "category = Scottish / line = Paterson\n",
      "category = French / line = Pan\n"
     ]
    }
   ],
   "source": [
    "# Quickly get training sample : Name, language \n",
    "import random \n",
    "def randomChoice(l) :\n",
    "    return l[random.randint(0, len(l)-1)]\n",
    "\n",
    "def randomTraininSample():\n",
    "    category = randomChoice(all_categories)\n",
    "    line = randomChoice(category_lines[category])\n",
    "    category_tensor = torch.tensor([all_categories.index(category)], dtype=torch.long)\n",
    "    line_tensor = line2Tensor(line)\n",
    "    return category, line, category_tensor, line_tensor\n",
    "\n",
    "for i in range(10):\n",
    "    category, line, category_tensor, line_tensor = randomTraininSample()\n",
    "    print('category =', category, '/ line =', line)\n",
    "    \n",
    "    "
   ]
  },
  {
   "cell_type": "code",
   "execution_count": 12,
   "metadata": {},
   "outputs": [
    {
     "name": "stdout",
     "output_type": "stream",
     "text": [
      "Russian\n",
      "14\n",
      "Uzhvy\n"
     ]
    }
   ],
   "source": [
    "category = randomChoice(all_categories)\n",
    "print(category)\n",
    "print(all_categories.index(category))\n",
    "line = randomChoice(category_lines[category])\n",
    "print(line)"
   ]
  },
  {
   "cell_type": "markdown",
   "metadata": {},
   "source": [
    "#### Actually Training The Network\n",
    "##### define loss function - using negative log likelihood loss \n",
    "\n",
    "> Each loop of training will:\n",
    "\n",
    "> * Create input and target tensors\n",
    "> * Create a zeroed initial hidden state\n",
    "> * Read each letter in and\n",
    "> * Keep hidden state for next letter\n",
    "> * Compare final output to target\n",
    "> * Back-propagate\n",
    "> * Return the output and loss"
   ]
  },
  {
   "cell_type": "code",
   "execution_count": 14,
   "metadata": {},
   "outputs": [],
   "source": [
    "criterion = nn.NLLLoss()\n",
    "\n",
    "lr = 0.05\n",
    "\n",
    "def train(cat_tensor, line_tensor):\n",
    "    # print(\"catt\",cat_tensor,\"lint\", line_tensor)\n",
    "    hidden = rnn.initHidden()\n",
    "    rnn.zero_grad()\n",
    "    for i in range(line_tensor.size()[0]):\n",
    "        output, hidden = rnn(line_tensor[i], hidden)\n",
    "    #print('....................', output.size(), cat_tensor.size())\n",
    "    loss = criterion(output, cat_tensor)\n",
    "    loss.backward()\n",
    "    print(\"loss\", loss.item())\n",
    "    \n",
    "    # Add parameter gradient *lr to update weight \n",
    "    for p in rnn.parameters():\n",
    "        p.data.add_(-lr, p.grad.data)\n",
    "    \n",
    "    return output, loss.item()"
   ]
  },
  {
   "cell_type": "code",
   "execution_count": 16,
   "metadata": {},
   "outputs": [
    {
     "name": "stdout",
     "output_type": "stream",
     "text": [
      "loss 2.978471040725708\n",
      "1 1% (0m 0s) 2.9785 Polites / Italian ✗ (Greek)\n",
      "loss 2.8280577659606934\n",
      "2 2% (0m 0s) 2.8281 Rompa / Italian ✗ (Dutch)\n",
      "loss 2.8971502780914307\n",
      "3 3% (0m 0s) 2.8972 Cernohous / Italian ✗ (Czech)\n",
      "loss 2.8299753665924072\n",
      "4 4% (0m 0s) 2.8300 Taylor / Korean ✗ (Scottish)\n",
      "loss 2.988372564315796\n",
      "5 5% (0m 0s) 2.9884 Papageorge / Dutch ✗ (Greek)\n",
      "loss 2.8756332397460938\n",
      "6 6% (0m 0s) 2.8756 Mo / Italian ✗ (Korean)\n",
      "loss 2.982548475265503\n",
      "7 7% (0m 0s) 2.9825 Komatsuzaki / Korean ✗ (Japanese)\n",
      "loss 2.879031181335449\n",
      "8 8% (0m 0s) 2.8790 Holst / Greek ✗ (German)\n",
      "loss 2.8090832233428955\n",
      "9 9% (0m 0s) 2.8091 Morra / Dutch ✗ (Italian)\n",
      "loss 2.9826018810272217\n",
      "10 10% (0m 0s) 2.9826 Gallego / Korean ✗ (Spanish)\n",
      "loss 2.927269220352173\n",
      "11 11% (0m 0s) 2.9273 Jenicek / Korean ✗ (Czech)\n",
      "loss 2.9048352241516113\n",
      "12 12% (0m 0s) 2.9048 Niemec / Korean ✗ (Polish)\n",
      "loss 2.8875739574432373\n",
      "13 13% (0m 0s) 2.8876 Stupka / Italian ✗ (Czech)\n",
      "loss 2.8266093730926514\n",
      "14 14% (0m 0s) 2.8266 Petimezas / Czech ✗ (Greek)\n",
      "loss 2.8821213245391846\n",
      "15 15% (0m 0s) 2.8821 Gouveia / Italian ✗ (Portuguese)\n",
      "loss 2.9029247760772705\n",
      "16 16% (0m 0s) 2.9029 Asfour / Greek ✗ (Arabic)\n",
      "loss 2.999354124069214\n",
      "17 17% (0m 0s) 2.9994 Ban / Korean ✗ (Chinese)\n",
      "loss 2.807448387145996\n",
      "18 18% (0m 0s) 2.8074 Aggio / Portuguese ✗ (Italian)\n",
      "loss 2.69795298576355\n",
      "19 19% (0m 0s) 2.6980 Sparacello / Italian ✓\n",
      "loss 2.84873628616333\n",
      "20 20% (0m 0s) 2.8487 Jiao / Italian ✗ (Chinese)\n",
      "loss 2.8062520027160645\n",
      "21 21% (0m 0s) 2.8063 Vandroogenbroeck / Italian ✗ (Dutch)\n",
      "loss 2.9938037395477295\n",
      "22 22% (0m 0s) 2.9938 Silva / Italian ✗ (Spanish)\n",
      "loss 2.631335973739624\n",
      "23 23% (0m 0s) 2.6313 Breda / Italian ✓\n",
      "loss 2.5092647075653076\n",
      "24 24% (0m 0s) 2.5093 Ventimiglia / Italian ✓\n",
      "loss 2.4808008670806885\n",
      "25 25% (0m 0s) 2.4808 Lamberti / Italian ✓\n",
      "loss 2.9568910598754883\n",
      "26 26% (0m 0s) 2.9569 Wawrzaszek / Italian ✗ (Polish)\n",
      "loss 2.771340847015381\n",
      "27 27% (0m 0s) 2.7713 Szwarc / Italian ✗ (Polish)\n",
      "loss 2.452256441116333\n",
      "28 28% (0m 0s) 2.4523 Ardizzone / Italian ✓\n",
      "loss 2.9589202404022217\n",
      "29 28% (0m 0s) 2.9589 Piskorsky / Italian ✗ (Russian)\n",
      "loss 2.3017492294311523\n",
      "30 30% (0m 0s) 2.3017 Genovese / Italian ✓\n",
      "loss 3.087965726852417\n",
      "31 31% (0m 0s) 3.0880 Francis / Italian ✗ (English)\n",
      "loss 2.784437894821167\n",
      "32 32% (0m 0s) 2.7844 Patselas / Italian ✗ (Greek)\n",
      "loss 2.8245484828948975\n",
      "33 33% (0m 0s) 2.8245 Quiros / Italian ✗ (Spanish)\n",
      "loss 2.2445523738861084\n",
      "34 34% (0m 0s) 2.2446 Abatescianni / Italian ✓\n",
      "loss 2.075208902359009\n",
      "35 35% (0m 0s) 2.0752 Affini / Italian ✓\n",
      "loss 3.053511142730713\n",
      "36 36% (0m 0s) 3.0535 Costa / Italian ✗ (English)\n",
      "loss 2.003674030303955\n",
      "37 37% (0m 0s) 2.0037 Mondo / Italian ✓\n",
      "loss 2.8876376152038574\n",
      "38 38% (0m 0s) 2.8876 Antunez / Italian ✗ (Spanish)\n",
      "loss 2.8656792640686035\n",
      "39 39% (0m 0s) 2.8657 Maslanka / Italian ✗ (Polish)\n",
      "loss 3.0274453163146973\n",
      "40 40% (0m 0s) 3.0274 Moghadam / Italian ✗ (Arabic)\n",
      "loss 2.916231393814087\n",
      "41 41% (0m 0s) 2.9162 Alexander / Italian ✗ (Scottish)\n",
      "loss 2.870394706726074\n",
      "42 42% (0m 0s) 2.8704 Pudel / Italian ✗ (Czech)\n",
      "loss 3.1090919971466064\n",
      "43 43% (0m 0s) 3.1091 Arato / Italian ✗ (Japanese)\n",
      "loss 3.036501169204712\n",
      "44 44% (0m 0s) 3.0365 Deeb / Italian ✗ (Arabic)\n",
      "loss 2.755314350128174\n",
      "45 45% (0m 0s) 2.7553 Hadad / Italian ✗ (Arabic)\n",
      "loss 2.9611029624938965\n",
      "46 46% (0m 0s) 2.9611 Ha / Italian ✗ (Korean)\n",
      "loss 2.852224349975586\n",
      "47 47% (0m 0s) 2.8522 Winogrodzki / Italian ✗ (Polish)\n",
      "loss 2.0053420066833496\n",
      "48 48% (0m 0s) 2.0053 Aconi / Italian ✓\n",
      "loss 2.8687310218811035\n",
      "49 49% (0m 0s) 2.8687 Sinclair / Italian ✗ (Scottish)\n",
      "loss 2.952918767929077\n",
      "50 50% (0m 0s) 2.9529 Law / Italian ✗ (Chinese)\n",
      "loss 3.152082681655884\n",
      "51 51% (0m 0s) 3.1521 Grosz / Italian ✗ (German)\n",
      "loss 2.9454843997955322\n",
      "52 52% (0m 0s) 2.9455 Zeng / Italian ✗ (Chinese)\n",
      "loss 3.0174410343170166\n",
      "53 53% (0m 0s) 3.0174 Hudonogov / Italian ✗ (Russian)\n",
      "loss 3.007725238800049\n",
      "54 54% (0m 0s) 3.0077 Junge / Italian ✗ (German)\n",
      "loss 2.716012477874756\n",
      "55 55% (0m 0s) 2.7160 Sleiman / Italian ✗ (Arabic)\n",
      "loss 2.801910400390625\n",
      "56 56% (0m 0s) 2.8019 Puig / Italian ✗ (Spanish)\n",
      "loss 3.2305572032928467\n",
      "57 56% (0m 0s) 3.2306 Dubhan / Italian ✗ (Irish)\n",
      "loss 2.7829391956329346\n",
      "58 57% (0m 0s) 2.7829 Kosmas / Italian ✗ (Greek)\n",
      "loss 2.9834156036376953\n",
      "59 59% (0m 0s) 2.9834 Bahtinoff / Italian ✗ (Russian)\n",
      "loss 3.085143804550171\n",
      "60 60% (0m 0s) 3.0851 O'Grady / Italian ✗ (Irish)\n",
      "loss 2.788472890853882\n",
      "61 61% (0m 0s) 2.7885 Faust / Italian ✗ (German)\n",
      "loss 3.2728018760681152\n",
      "62 62% (0m 0s) 3.2728 Trieu / Italian ✗ (Vietnamese)\n",
      "loss 2.9424211978912354\n",
      "63 63% (0m 0s) 2.9424 Multyh / Italian ✗ (Russian)\n",
      "loss 2.7385287284851074\n",
      "64 64% (0m 0s) 2.7385 Nieves / Italian ✗ (Spanish)\n",
      "loss 2.984841823577881\n",
      "65 65% (0m 0s) 2.9848 Bradan / Italian ✗ (Irish)\n",
      "loss 2.7436840534210205\n",
      "66 66% (0m 0s) 2.7437 Naifeh / Italian ✗ (Arabic)\n",
      "loss 2.704559326171875\n",
      "67 67% (0m 0s) 2.7046 Judkov / Italian ✗ (Russian)\n",
      "loss 2.9195144176483154\n",
      "68 68% (0m 0s) 2.9195 Wilson / Italian ✗ (Scottish)\n",
      "loss 2.5887906551361084\n",
      "69 69% (0m 0s) 2.5888 Abeltsev / Italian ✗ (Russian)\n",
      "loss 2.2183592319488525\n",
      "70 70% (0m 0s) 2.2184 Ventura / Italian ✓\n",
      "loss 2.7716357707977295\n",
      "71 71% (0m 0s) 2.7716 Bazzi / Italian ✗ (Arabic)\n",
      "loss 3.1351675987243652\n",
      "72 72% (0m 0s) 3.1352 Kollen / Italian ✗ (Dutch)\n",
      "loss 2.079540491104126\n",
      "73 73% (0m 0s) 2.0795 Bellandi / Italian ✓\n",
      "loss 2.812378168106079\n",
      "74 74% (0m 0s) 2.8124 Gao / Italian ✗ (Chinese)\n",
      "loss 1.9746779203414917\n",
      "75 75% (0m 0s) 1.9747 Sciacchitano / Italian ✓\n",
      "loss 3.2086615562438965\n",
      "76 76% (0m 0s) 3.2087 Gomes / Italian ✗ (Portuguese)\n",
      "loss 1.8992493152618408\n",
      "77 77% (0m 0s) 1.8992 Scordato / Italian ✓\n",
      "loss 2.9451656341552734\n",
      "78 78% (0m 0s) 2.9452 Christie / Italian ✗ (Scottish)\n",
      "loss 2.627824306488037\n",
      "79 79% (0m 0s) 2.6278 Koury / Italian ✗ (Arabic)\n",
      "loss 2.986314296722412\n",
      "80 80% (0m 0s) 2.9863 Von grimmelshausen / Italian ✗ (German)\n",
      "loss 1.6958047151565552\n",
      "81 81% (0m 0s) 1.6958 Ardiccioni / Italian ✓\n",
      "loss 3.169063091278076\n",
      "82 82% (0m 0s) 3.1691 Haanraats / Italian ✗ (Dutch)\n",
      "loss 2.9737491607666016\n",
      "83 83% (0m 0s) 2.9737 Stangl / Italian ✗ (Czech)\n",
      "loss 2.8303029537200928\n",
      "84 84% (0m 0s) 2.8303 Nunez / Italian ✗ (Spanish)\n",
      "loss 2.9992213249206543\n",
      "85 85% (0m 0s) 2.9992 Cha / Italian ✗ (Korean)\n",
      "loss 3.186466693878174\n",
      "86 86% (0m 0s) 3.1865 Tsumemasa / Italian ✗ (Japanese)\n",
      "loss 2.847747325897217\n",
      "87 87% (0m 0s) 2.8477 Bekyros / Italian ✗ (Greek)\n",
      "loss 2.653779983520508\n",
      "88 88% (0m 0s) 2.6538 Telis / Italian ✗ (Greek)\n",
      "loss 2.9040582180023193\n",
      "89 89% (0m 0s) 2.9041 Kolen / Italian ✗ (Dutch)\n",
      "loss 2.980537176132202\n",
      "90 90% (0m 0s) 2.9805 Pachr / Italian ✗ (Czech)\n",
      "loss 2.8950324058532715\n",
      "91 91% (0m 0s) 2.8950 Abel / Italian ✗ (German)\n",
      "loss 3.2951741218566895\n",
      "92 92% (0m 0s) 3.2952 Vinh / Italian ✗ (Vietnamese)\n",
      "loss 2.7480380535125732\n",
      "93 93% (0m 0s) 2.7480 Paul / Italian ✗ (German)\n",
      "loss 1.8767259120941162\n",
      "94 94% (0m 0s) 1.8767 Manfredi / Italian ✓\n",
      "loss 3.248563766479492\n",
      "95 95% (0m 0s) 3.2486 Dent / Italian ✗ (English)\n",
      "loss 1.7342619895935059\n",
      "96 96% (0m 0s) 1.7343 Sapienti / Italian ✓\n",
      "loss 2.5817878246307373\n",
      "97 97% (0m 0s) 2.5818 Khoury / Italian ✗ (Arabic)\n",
      "loss 3.0910351276397705\n",
      "98 98% (0m 0s) 3.0910 Perrett / Italian ✗ (English)\n",
      "loss 2.6167452335357666\n",
      "99 99% (0m 0s) 2.6167 Zhigulenkov / Italian ✗ (Russian)\n",
      "loss 3.029956579208374\n",
      "100 100% (0m 0s) 3.0300 Godfrey / Italian ✗ (English)\n"
     ]
    }
   ],
   "source": [
    "# Run train with train data and print output also average loss \n",
    "import time \n",
    "import math \n",
    "\n",
    "n_iters = 100 #10000\n",
    "print_every = 1 # 5000\n",
    "plot_every = 1 \n",
    "\n",
    "# Keep Track of losses for plotting \n",
    "\n",
    "current_loss =0 ; \n",
    "all_losses = [];\n",
    "\n",
    "def timeSince(since):\n",
    "    now = time.time()\n",
    "    s = now - since\n",
    "    m = math.floor(s / 60)\n",
    "    s -= m * 60\n",
    "    return '%dm %ds' % (m, s)\n",
    "\n",
    "start = time.time()\n",
    "\n",
    "for iter in range(1, n_iters +1) :\n",
    "    category, line, category_tensor, line_tensor = randomTraininSample()    \n",
    "    output, loss = train(category_tensor, line_tensor)\n",
    "    current_loss += loss \n",
    "    \n",
    "    #Print iter, name, loss and guess \n",
    "    if iter % print_every == 0:\n",
    "        guess, guess_i = catFromOutput(output)\n",
    "        correct = '✓' if guess == category else '✗ (%s)' % category\n",
    "        print('%d %d%% (%s) %.4f %s / %s %s' % (iter, iter / n_iters * 100, timeSince(start), loss, line, guess, correct))\n",
    "        \n",
    "    # Add current loss avg to list of losses\n",
    "    if iter % plot_every == 0:\n",
    "        all_losses.append(current_loss / plot_every)\n",
    "        current_loss = 0\n",
    "\n",
    "\n"
   ]
  },
  {
   "cell_type": "markdown",
   "metadata": {},
   "source": [
    "## Plotting Results \n"
   ]
  },
  {
   "cell_type": "code",
   "execution_count": 18,
   "metadata": {},
   "outputs": [
    {
     "data": {
      "image/png": "[encoded data removed]",
      "text/plain": [
       "<matplotlib.figure.Figure at 0x7fbba7ad9b70>"
      ]
     },
     "metadata": {},
     "output_type": "display_data"
    }
   ],
   "source": [
    "import matplotlib.pyplot as plt\n",
    "import matplotlib.ticker as ticker\n",
    "\n",
    "plt.figure()\n",
    "plt.plot(all_losses)\n",
    "plt.show()"
   ]
  },
  {
   "cell_type": "code",
   "execution_count": null,
   "metadata": {},
   "outputs": [],
   "source": [
    "\n"
   ]
  }
 ],
 "metadata": {
  "kernelspec": {
   "display_name": "Python 3",
   "language": "python",
   "name": "python3"
  },
  "language_info": {
   "codemirror_mode": {
    "name": "ipython",
    "version": 3
   },
   "file_extension": ".py",
   "mimetype": "text/x-python",
   "name": "python",
   "nbconvert_exporter": "python",
   "pygments_lexer": "ipython3",
   "version": "3.6.4"
  }
 },
 "nbformat": 4,
 "nbformat_minor": 2
}
